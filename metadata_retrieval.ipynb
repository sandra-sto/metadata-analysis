{
 "cells": [
  {
   "cell_type": "code",
   "execution_count": 11,
   "metadata": {},
   "outputs": [],
   "source": [
    "import pandas as pd\n",
    "import numpy as np\n",
    "import json\n",
    "import multiprocessing"
   ]
  },
  {
   "cell_type": "code",
   "execution_count": 12,
   "metadata": {},
   "outputs": [],
   "source": [
    "path = '/home/sandra/Documents/IkenaMetadata/'\n",
    "csv_file = 'mpegts_file_listing_mdata.csv'\n",
    "hashes_with_existing_metadata = []"
   ]
  },
  {
   "cell_type": "code",
   "execution_count": 13,
   "metadata": {},
   "outputs": [],
   "source": [
    "file_listing = pd.read_csv(path + csv_file, skiprows=7, sep='\\t', names=['filename', 'type', 'sync', 'frame_center', 'has_bounding_box', 'videoname'])"
   ]
  },
  {
   "cell_type": "code",
   "execution_count": 14,
   "metadata": {},
   "outputs": [],
   "source": [
    "uasd_hashes = file_listing[file_listing.type=='UASD']['filename'].values"
   ]
  },
  {
   "cell_type": "code",
   "execution_count": 15,
   "metadata": {},
   "outputs": [],
   "source": [
    "def get_video_metadata(hash):\n",
    "    file = get_metadata_filename(hash)\n",
    "    try:\n",
    "        with open(file) as json_file:\n",
    "            metadata = json.load(json_file)\n",
    "            return metadata\n",
    "    except FileNotFoundError as e:\n",
    "        print('File ', file, ' not found')"
   ]
  },
  {
   "cell_type": "code",
   "execution_count": 16,
   "metadata": {},
   "outputs": [],
   "source": [
    "def get_metadata_filename(hash):\n",
    "    subfolder = 'json/'\n",
    "    file = path + subfolder + hash + '.json'\n",
    "    return file"
   ]
  },
  {
   "cell_type": "code",
   "execution_count": 17,
   "metadata": {},
   "outputs": [],
   "source": [
    "#TODO maybe to extract also data without FC (0,0)\n",
    "def get_hashes_with_existing_metadata():\n",
    "#     if hashes_with_existing_metadata == []:\n",
    "    hashes_with_existing_metadata = [hash for hash in uasd_hashes if get_video_metadata(hash) is not None]\n",
    "    return hashes_with_existing_metadata"
   ]
  },
  {
   "cell_type": "code",
   "execution_count": 18,
   "metadata": {},
   "outputs": [],
   "source": [
    "def get_metadata_hash(index):\n",
    "    hashes_with_existing_metadata = get_hashes_with_existing_metadata()\n",
    "    return hashes_with_existing_metadata[index]"
   ]
  },
  {
   "cell_type": "code",
   "execution_count": 1,
   "metadata": {
    "ExecuteTime": {
     "end_time": "2019-07-31T11:31:25.075475Z",
     "start_time": "2019-07-31T11:31:25.072165Z"
    }
   },
   "outputs": [],
   "source": [
    "def get_video_metadata_by_index(index):\n",
    "    hash = get_metadata_hash(index)\n",
    "    metadata = get_video_metadata(hash)\n",
    "    return hash, metadata"
   ]
  },
  {
   "cell_type": "code",
   "execution_count": 2,
   "metadata": {
    "ExecuteTime": {
     "end_time": "2019-07-31T11:36:53.312686Z",
     "start_time": "2019-07-31T11:36:53.309699Z"
    }
   },
   "outputs": [],
   "source": [
    "def get_videos_metadatas_by_indices(indices):\n",
    "    return [get_video_metadata_by_index(index) for index in indices]\n",
    "        "
   ]
  }
 ],
 "metadata": {
  "kernelspec": {
   "display_name": "Python 3",
   "language": "python",
   "name": "python3"
  },
  "language_info": {
   "codemirror_mode": {
    "name": "ipython",
    "version": 3
   },
   "file_extension": ".py",
   "mimetype": "text/x-python",
   "name": "python",
   "nbconvert_exporter": "python",
   "pygments_lexer": "ipython3",
   "version": "3.7.3"
  },
  "varInspector": {
   "cols": {
    "lenName": 16,
    "lenType": 16,
    "lenVar": 40
   },
   "kernels_config": {
    "python": {
     "delete_cmd_postfix": "",
     "delete_cmd_prefix": "del ",
     "library": "var_list.py",
     "varRefreshCmd": "print(var_dic_list())"
    },
    "r": {
     "delete_cmd_postfix": ") ",
     "delete_cmd_prefix": "rm(",
     "library": "var_list.r",
     "varRefreshCmd": "cat(var_dic_list()) "
    }
   },
   "types_to_exclude": [
    "module",
    "function",
    "builtin_function_or_method",
    "instance",
    "_Feature"
   ],
   "window_display": false
  }
 },
 "nbformat": 4,
 "nbformat_minor": 2
}
